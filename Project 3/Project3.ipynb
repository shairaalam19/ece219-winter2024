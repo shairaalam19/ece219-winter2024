{
 "cells": [
  {
   "cell_type": "markdown",
   "metadata": {},
   "source": [
    "# Project 3: Recommendation Systems\n",
    "\n",
    "## Group Members\n",
    "- Shaira Alam\n",
    "\n",
    "- Vani Agrawal \n",
    "\n",
    "- Dhakshina Ilango"
   ]
  },
  {
   "cell_type": "markdown",
   "metadata": {},
   "source": [
    "# Question 7\n",
    "Understanding the NMF cost function: Is the optimization problem given by equation 5 convex? Consider the optimization problem given by equation 5. For U fixed, formulate it as a least-squares problem."
   ]
  },
  {
   "cell_type": "code",
   "execution_count": null,
   "metadata": {},
   "outputs": [],
   "source": []
  },
  {
   "cell_type": "markdown",
   "metadata": {},
   "source": [
    "# Question 8\n",
    "Designing the NMF Collaborative Filter"
   ]
  },
  {
   "cell_type": "markdown",
   "metadata": {},
   "source": [
    "## A\n",
    "Design a NMF-based collaborative filter to predict the ratings of the movies in the original dataset and evaluate its performance using 10-fold cross-validation. Sweep k (number of latent factors) from 2 to 50 in step sizes of 2, and for each k compute the average RMSE and average MAE obtained by averaging the RMSE and MAE across all 10 folds. If NMF takes too long, you can increase the step size. Increasing it too much will result in poorer granularity in your results. Plot the average RMSE (Y-axis) against k (X-axis) and the average MAE (Yaxis) against k (X-axis). For solving this question, use the default value for the regularization parameter."
   ]
  },
  {
   "cell_type": "markdown",
   "metadata": {},
   "source": [
    "## B\n",
    "Use the plot from the previous part to find the optimal number of latent factors. Optimal number of latent factors is the value of k that gives the minimum average RMSE or the minimum average MAE. Please report the minimum average RMSE and MAE. Is the optimal number of latent factors same as the number of movie genres?"
   ]
  },
  {
   "cell_type": "markdown",
   "metadata": {},
   "source": [
    "## C\n",
    "Performance on trimmed dataset subsets: For each of Popular, Unpopular and High-Variance subsets"
   ]
  },
  {
   "cell_type": "markdown",
   "metadata": {},
   "source": [
    "Design a NMF collaborative filter for each trimmed subset and evaluate its performance using 10-fold cross validation. Sweep k (number of latent factors) from 2 to 50 in step sizes of 2, and for each k compute the average RMSE obtained by averaging the RMSE across all 10 folds."
   ]
  },
  {
   "cell_type": "markdown",
   "metadata": {},
   "source": [
    "Plot average RMSE (Y-axis) against k (X-axis); item Report the minimum average RMSE."
   ]
  },
  {
   "cell_type": "markdown",
   "metadata": {},
   "source": [
    "## D\n",
    "Plot the ROC curves for the NMF-based collaborative filter and also report the area under the curve (AUC) value as done in Question 6."
   ]
  },
  {
   "cell_type": "markdown",
   "metadata": {},
   "source": [
    "# Question 9\n",
    "Interpreting the NMF model: Perform Non-negative matrix factorization on\n",
    "the ratings matrix R to obtain the factor matrices U and V , where U represents the user-latent factors interaction and V represents the movie-latent factors interaction (use k = 20). For each column of V , sort the movies in descending order and report the genres of the top 10 movies. Do the top 10 movies belong to a particular or a small collection of genre? Is there a connection between the latent factors and the movie genres?"
   ]
  },
  {
   "cell_type": "markdown",
   "metadata": {},
   "source": [
    "# Question 10\n",
    "Designing the MF Collaborative Filter"
   ]
  },
  {
   "cell_type": "markdown",
   "metadata": {},
   "source": [
    "## A\n",
    "Design a MF-based collaborative filter to predict the ratings of the movies in the original dataset and evaluate it’s performance using 10-fold cross-validation. Sweep k (number of latent factors) from 2 to 50 in step sizes of 2, and for each k compute the average RMSE and average MAE obtained by averaging the RMSE and MAE across all 10 folds. Plot the average RMSE (Y-axis) against k (X-axis) and the average MAE (Y-axis) against k (X-axis). For solving this question, use the default value for the regularization parameter."
   ]
  },
  {
   "cell_type": "markdown",
   "metadata": {},
   "source": [
    "## B\n",
    "Use the plot from the previous part to find the optimal number of latent factors. Optimal\n",
    "number of latent factors is the value of k that gives the minimum average RMSE or the\n",
    "minimum average MAE. Please report the minimum average RMSE and MAE. Is the optimal\n",
    "number of latent factors same as the number of movie genres?"
   ]
  },
  {
   "cell_type": "markdown",
   "metadata": {},
   "source": [
    "## C\n",
    "Performance on dataset subsets: For each of Popular, Unpopular and High-Variance subsets"
   ]
  },
  {
   "cell_type": "markdown",
   "metadata": {},
   "source": [
    "Design a MF collaborative filter for each trimmed subset and evaluate its performance using 10-fold cross validation. Sweep k (number of latent factors) from 2 to 50 in step sizes of 2, and for each k compute the average RMSE obtained by averaging the RMSE across all 10 folds."
   ]
  },
  {
   "cell_type": "markdown",
   "metadata": {},
   "source": [
    "Plot average RMSE (Y-axis) against k (X-axis); item Report the minimum average RMSE."
   ]
  },
  {
   "cell_type": "markdown",
   "metadata": {},
   "source": [
    "Plot the ROC curves for the MF-based collaborative filter and also report the area under the curve (AUC) value as done in Question 6."
   ]
  },
  {
   "cell_type": "markdown",
   "metadata": {},
   "source": [
    "# Question 11"
   ]
  },
  {
   "cell_type": "markdown",
   "metadata": {},
   "source": [
    "## A\n",
    "Design a naive collaborative filter to predict the ratings of the movies in the original dataset and evaluate it’s performance using 10-fold cross validation. Compute the average RMSE by averaging the RMSE across all 10 folds. Report the average RMSE."
   ]
  },
  {
   "cell_type": "markdown",
   "metadata": {},
   "source": [
    "## B\n",
    "Performance on dataset subsets: For each of Popular, Unpopular and High-Variance test subsets "
   ]
  },
  {
   "cell_type": "markdown",
   "metadata": {},
   "source": [
    "Design a naive collaborative filter for each trimmed set and evaluate its performance using 10-fold cross validation."
   ]
  },
  {
   "cell_type": "markdown",
   "metadata": {},
   "source": [
    "Compute the average RMSE by averaging the RMSE across all 10 folds. Report the average RMSE."
   ]
  },
  {
   "cell_type": "markdown",
   "metadata": {},
   "source": [
    "# Question 12 \n",
    "Comparing the most performant models across architecture: Plot the best ROC curves (threshold = 3) for the k-NN, NMF, and MF with bias based  ollaborative filters in the same figure. Use the figure to compare the performance of the filters in predicting the ratings of the movies."
   ]
  },
  {
   "cell_type": "markdown",
   "metadata": {},
   "source": [
    "# Question 13 \n",
    "Use the provided helper code for loading and preprocessing Web10k data. Print out the number of unique queries in total and show distribution of relevance labels."
   ]
  },
  {
   "cell_type": "code",
   "execution_count": 1,
   "metadata": {},
   "outputs": [
    {
     "name": "stdout",
     "output_type": "stream",
     "text": [
      "Requirement already satisfied: lightgbm in /Users/vaniagrawal/anaconda3/lib/python3.10/site-packages (4.1.0)\n",
      "Requirement already satisfied: numpy in /Users/vaniagrawal/anaconda3/lib/python3.10/site-packages (from lightgbm) (1.26.3)\n",
      "Requirement already satisfied: scipy in /Users/vaniagrawal/anaconda3/lib/python3.10/site-packages (from lightgbm) (1.12.0)\n"
     ]
    }
   ],
   "source": [
    "! pip install lightgbm"
   ]
  },
  {
   "cell_type": "code",
   "execution_count": 2,
   "metadata": {},
   "outputs": [],
   "source": [
    "from sklearn.datasets import load_svmlight_file\n",
    "from sklearn.metrics import ndcg_score\n",
    "import numpy as np\n",
    "\n",
    "# Load the dataset for one fold\n",
    "def load_one_fole(data_path):\n",
    "    X_train, y_train, qid_train = load_svmlight_file(str(data_path + 'train.txt'), query_id=True)\n",
    "    X_test, y_test, qid_test = load_svmlight_file(str(data_path + 'test.txt'), query_id=True)\n",
    "    y_train = y_train.astype(int)\n",
    "    y_test = y_test.astype(int)\n",
    "    _, group_train = np.unique(qid_train, return_counts=True)\n",
    "    _, group_test = np.unique(qid_test, return_counts=True)\n",
    "    return X_train, y_train, qid_train, group_train, X_test, y_test, qid_test, group_test\n",
    "\n",
    "def ndcg_single_query(y_score, y_true, k):\n",
    "    order = np.argsort(y_score)[::-1]\n",
    "    y_true = np.take(y_true, order[:k])\n",
    "\n",
    "    gain = 2 ** y_true - 1\n",
    "\n",
    "    discounts = np.log2(np.arange(len(y_true)) + 2)\n",
    "    return np.sum(gain / discounts)\n",
    "\n",
    "# calculate NDCG score given a trained model \n",
    "def compute_ndcg_all(model, X_test, y_test, qids_test, k=10):\n",
    "    unique_qids = np.unique(qids_test)\n",
    "    ndcg_ = list()\n",
    "    for i, qid in enumerate(unique_qids):\n",
    "        y = y_test[qids_test == qid]\n",
    "\n",
    "        if np.sum(y) == 0:\n",
    "            continue\n",
    "\n",
    "        p = model.predict(X_test[qids_test == qid])\n",
    "\n",
    "        idcg = ndcg_single_query(y, y, k=k)\n",
    "        ndcg_.append(ndcg_single_query(p, y, k=k) / idcg)\n",
    "    return np.mean(ndcg_)\n",
    "\n",
    "# get importance of features\n",
    "def get_feature_importance(model, importance_type='gain'):\n",
    "    return model.booster_.feature_importance(importance_type=importance_type)"
   ]
  },
  {
   "cell_type": "code",
   "execution_count": 3,
   "metadata": {},
   "outputs": [
    {
     "name": "stdout",
     "output_type": "stream",
     "text": [
      "Fold1: val:[0 1 2 3 4] count:[502741 310465 127541  17108   7078]\n",
      "Fold2: val:[0 1 2 3 4] count:[499479 308384 126992  16867   6949]\n",
      "Fold3: val:[0 1 2 3 4] count:[497813 308264 127576  17264   7287]\n",
      "Fold4: val:[0 1 2 3 4] count:[498175 310318 128538  16956   7112]\n",
      "Fold5: val:[0 1 2 3 4] count:[498844 307689 127157  17073   7098]\n"
     ]
    },
    {
     "data": {
      "image/png": "[encoded data removed]",
      "text/plain": [
       "<Figure size 432x288 with 1 Axes>"
      ]
     },
     "metadata": {
      "needs_background": "light"
     },
     "output_type": "display_data"
    }
   ],
   "source": [
    "import os\n",
    "import matplotlib.pyplot as plt\n",
    "\n",
    "datapath = './MSLR-WEB10K'\n",
    "\n",
    "total_counts = np.zeros(5, dtype=int)\n",
    "\n",
    "# Loop through each fold\n",
    "for fold_num in range(1, 6):\n",
    "    # Load data for the current fold\n",
    "    fold_path = os.path.join(datapath, f'Fold{fold_num}/')\n",
    "    _, y_train, _, _, _, y_test, _, _ = load_one_fole(fold_path)\n",
    "\n",
    "    # Calculate and print distribution of relevance labels for the current fold\n",
    "    unique_labels, label_counts = np.unique(np.concatenate([y_train, y_test]), return_counts=True)\n",
    "    print(f'Fold{fold_num}: val:{unique_labels} count:{label_counts}')\n",
    "\n",
    "    # Update total counts\n",
    "    total_counts += label_counts\n",
    "\n",
    "# Combine counts across all folds into a single plot\n",
    "relevance_labels = [0, 1, 2, 3, 4]\n",
    "\n",
    "# Plot the total frequency of relevance labels\n",
    "plt.bar(relevance_labels, total_counts)\n",
    "plt.xlabel('Relevance Label')\n",
    "plt.ylabel('Frequency')\n",
    "plt.title('Distribution of Relevance Labels Across Folds')\n",
    "plt.show()"
   ]
  },
  {
   "cell_type": "code",
   "execution_count": 4,
   "metadata": {},
   "outputs": [
    {
     "name": "stdout",
     "output_type": "stream",
     "text": [
      "\n",
      "Combined counts across all folds:\n",
      "relevance label:  0                 1                  2                 3               4\n",
      "frequency:      2497052         1545120              637804            85268           35524\n"
     ]
    }
   ],
   "source": [
    "# Print the combined counts\n",
    "print(\"\\nCombined counts across all folds:\")\n",
    "print(\"relevance label:  0                 1                  2                 3               4\")\n",
    "print(f\"frequency:      {total_counts[0]}         {total_counts[1]}              {total_counts[2]}            {total_counts[3]}           {total_counts[4]}\")"
   ]
  },
  {
   "cell_type": "markdown",
   "metadata": {},
   "source": [
    "# Question 14\n",
    "For each of the five provided folds, train a LightGBM model using the ’lambdarank’ objective. After\n",
    "training, evaluate and report the model’s performance on the test set using nDCG@3, nDCG@5 and\n",
    "nDCG@10"
   ]
  },
  {
   "cell_type": "code",
   "execution_count": 6,
   "metadata": {},
   "outputs": [
    {
     "name": "stdout",
     "output_type": "stream",
     "text": [
      "\n",
      "Evaluation Results:\n",
      "Fold 1: nDCG@3 = 0.4565, nDCG@5 = 0.4633, nDCG@10 = 0.4829\n",
      "Fold 2: nDCG@3 = 0.4538, nDCG@5 = 0.4572, nDCG@10 = 0.4767\n",
      "Fold 3: nDCG@3 = 0.4491, nDCG@5 = 0.4583, nDCG@10 = 0.4759\n",
      "Fold 4: nDCG@3 = 0.4612, nDCG@5 = 0.4663, nDCG@10 = 0.4877\n",
      "Fold 5: nDCG@3 = 0.4697, nDCG@5 = 0.4715, nDCG@10 = 0.4905\n"
     ]
    }
   ],
   "source": [
    "import lightgbm as lgb\n",
    "\n",
    "datapath = './MSLR-WEB10K'\n",
    "\n",
    "results = []\n",
    "\n",
    "for fold_num in range(1, 6):\n",
    "    # Load data for the current fold\n",
    "    fold_path = os.path.join(datapath, f'Fold{fold_num}/')\n",
    "    X_train, y_train, qid_train, group_train, X_test, y_test, qid_test, group_test = load_one_fole(fold_path)\n",
    "\n",
    "    # LightGBM model with 'lambdarank' objective\n",
    "    params = {'objective': 'lambdarank', 'metric': 'ndcg', 'ndcg_eval_at': [3, 5, 10], 'verbose': 0}\n",
    "    fold_train_data = lgb.Dataset(X_train, label=y_train, group=group_train, free_raw_data=False)\n",
    "    fold_test_data = lgb.Dataset(X_test, label=y_test, group=group_test, free_raw_data=False)\n",
    "\n",
    "    lgb_model = lgb.train(params, fold_train_data, valid_sets=[fold_test_data])\n",
    "\n",
    "    # Evalauting the model on the test set\n",
    "    ndcg3 = compute_ndcg_all(lgb_model, X_test, y_test, qid_test, k=3)\n",
    "    ndcg5 = compute_ndcg_all(lgb_model, X_test, y_test, qid_test, k=5)\n",
    "    ndcg10 = compute_ndcg_all(lgb_model, X_test, y_test, qid_test, k=10)\n",
    "\n",
    "    results.append({'fold': fold_num, 'ndcg@3': ndcg3, 'ndcg@5': ndcg5, 'ndcg@10': ndcg10})\n",
    "\n",
    "print(\"\\nEvaluation Results:\")\n",
    "for r in results:\n",
    "    print(f\"Fold {r['fold']}: nDCG@3 = {r['ndcg@3']:.4f}, nDCG@5 = {r['ndcg@5']:.4f}, nDCG@10 = {r['ndcg@10']:.4f}\")\n",
    "\n",
    "\n"
   ]
  },
  {
   "cell_type": "markdown",
   "metadata": {},
   "source": [
    "# Question 15\n",
    "For each of the five provided folds, list top 5 most important features of the model based on\n",
    "the importance score. Please use model.booster .feature importance(importance type=’gain’) as\n",
    "demonstrated here for retrieving importance score per feature. You can also find helper code in the\n",
    "provided notebook."
   ]
  },
  {
   "cell_type": "code",
   "execution_count": 7,
   "metadata": {},
   "outputs": [
    {
     "name": "stdout",
     "output_type": "stream",
     "text": [
      "\n",
      "Top 5 features for Fold 1 based on importance score:\n",
      "Feature 134\n",
      "Feature 8\n",
      "Feature 108\n",
      "Feature 55\n",
      "Feature 130\n",
      "\n",
      "Top 5 features for Fold 2 based on importance score:\n",
      "Feature 134\n",
      "Feature 8\n",
      "Feature 55\n",
      "Feature 108\n",
      "Feature 130\n",
      "\n",
      "Top 5 features for Fold 3 based on importance score:\n",
      "Feature 134\n",
      "Feature 55\n",
      "Feature 108\n",
      "Feature 130\n",
      "Feature 8\n",
      "\n",
      "Top 5 features for Fold 4 based on importance score:\n",
      "Feature 134\n",
      "Feature 8\n",
      "Feature 55\n",
      "Feature 130\n",
      "Feature 129\n",
      "\n",
      "Top 5 features for Fold 5 based on importance score:\n",
      "Feature 134\n",
      "Feature 8\n",
      "Feature 55\n",
      "Feature 108\n",
      "Feature 130\n"
     ]
    }
   ],
   "source": [
    "datapath = './MSLR-WEB10K'\n",
    "\n",
    "for fold_num in range(1, 6):\n",
    "    # Load data for the current fold\n",
    "    fold_path = os.path.join(datapath, f'Fold{fold_num}/')\n",
    "    X_train, y_train, qid_train, group_train, X_test, y_test, qid_test, group_test = load_one_fole(fold_path)\n",
    "\n",
    "    # LightGBM model with 'lambdarank' objective\n",
    "    params = {'objective': 'lambdarank', 'metric': 'ndcg', 'ndcg_eval_at': [3, 5, 10], 'verbose': 0}\n",
    "    fold_train_data = lgb.Dataset(X_train, label=y_train, group=group_train, free_raw_data=False)\n",
    "    fold_test_data = lgb.Dataset(X_test, label=y_test, group=group_test, free_raw_data=False)\n",
    "\n",
    "    lgb_model = lgb.train(params, fold_train_data, valid_sets=[fold_test_data])\n",
    "\n",
    "    # Get feature importance\n",
    "    feature_importance = lgb_model.feature_importance(importance_type=\"gain\")\n",
    "\n",
    "    # Find and print the top 5 most important features\n",
    "    top_features_indices = np.argsort(feature_importance)[::-1][:5]\n",
    "    top_features = [f\"Feature {idx + 1}\" for idx in top_features_indices]\n",
    "    \n",
    "    print(f\"\\nTop 5 features for Fold {fold_num} based on importance score:\")\n",
    "    for feature in top_features:\n",
    "        print(feature)"
   ]
  },
  {
   "cell_type": "markdown",
   "metadata": {},
   "source": [
    "# Question 16.1\n",
    "For each of the five provided folds:\n",
    "- Remove the top 20 most important features according to the computed importance score in\n",
    "the question 15. Then train a new LightGBM model on the resulted 116 dimensional query-\n",
    "url data. Evaluate the performance of this new model on the test set using nDCG. Does\n",
    "the outcome align with your expectations? If not, please share your hypothesis regarding the\n",
    "potential reasons for this discrepancy."
   ]
  },
  {
   "cell_type": "code",
   "execution_count": 8,
   "metadata": {},
   "outputs": [
    {
     "name": "stdout",
     "output_type": "stream",
     "text": [
      "\n",
      "Fold 1 - After removing top 20 features: nDCG@10 = 0.4081\n",
      "\n",
      "Fold 2 - After removing top 20 features: nDCG@10 = 0.4046\n",
      "\n",
      "Fold 3 - After removing top 20 features: nDCG@10 = 0.4114\n",
      "\n",
      "Fold 4 - After removing top 20 features: nDCG@10 = 0.4123\n",
      "\n",
      "Fold 5 - After removing top 20 features: nDCG@10 = 0.4169\n"
     ]
    }
   ],
   "source": [
    "datapath = './MSLR-WEB10K'\n",
    "\n",
    "for fold_num in range(1, 6):\n",
    "    # Load data for the current fold\n",
    "    fold_path = os.path.join(datapath, f'Fold{fold_num}/')\n",
    "    X_train, y_train, qid_train, group_train, X_test, y_test, qid_test, group_test = load_one_fole(fold_path)\n",
    "\n",
    "    # LightGBM model with 'lambdarank' objective\n",
    "    params = {'objective': 'lambdarank', 'metric': 'ndcg', 'ndcg_eval_at': [3, 5, 10], 'verbose': 0}\n",
    "    fold_train_data = lgb.Dataset(X_train, label=y_train, group=group_train, free_raw_data=False)\n",
    "    fold_test_data = lgb.Dataset(X_test, label=y_test, group=group_test, free_raw_data=False)\n",
    "\n",
    "    lgb_model = lgb.train(params, fold_train_data, valid_sets=[fold_test_data])\n",
    "\n",
    "    # Get feature importance\n",
    "    feature_importance = lgb_model.feature_importance(importance_type=\"gain\")\n",
    "\n",
    "    # Get the indices of the top 20 features\n",
    "    top20_indices = np.argsort(feature_importance)[::-1][:20]\n",
    "\n",
    "    # Remove top 20 features\n",
    "    X_train_top20 = np.delete(X_train.toarray(), top20_indices, axis=1)\n",
    "    X_test_top20 = np.delete(X_test.toarray(), top20_indices, axis=1)\n",
    "\n",
    "    model_top20 = lgb.train(params, lgb.Dataset(X_train_top20, label=y_train, group=group_train, free_raw_data=False))\n",
    "\n",
    "    # Evaluate the performance on the test set using nDCG\n",
    "    ndcg_top20 = compute_ndcg_all(model_top20, X_test_top20, y_test, qid_test, k=10)\n",
    "    print(f\"\\nFold {fold_num} - After removing top 20 features: nDCG@10 = {ndcg_top20:.4f}\")"
   ]
  },
  {
   "cell_type": "markdown",
   "metadata": {},
   "source": [
    "# Question 16.2\n",
    "For each of the five provided folds:\n",
    "- Remove the 60 least important features according to the computed importance score in the\n",
    "question 15. Then train a new LightGBM model on the resulted 76 dimensional query-url data.\n",
    "Evaluate the performance of this new model on the test set using nDCG. Does the outcome\n",
    "align with your expectations? If not, please share your hypothesis regarding the potential\n",
    "reasons for this discrepancy."
   ]
  },
  {
   "cell_type": "code",
   "execution_count": 10,
   "metadata": {},
   "outputs": [
    {
     "name": "stdout",
     "output_type": "stream",
     "text": [
      "\n",
      "Fold 1 - After removing bottom 60 features: nDCG@10 = 0.4821\n",
      "\n",
      "Fold 2 - After removing bottom 60 features: nDCG@10 = 0.4772\n",
      "\n",
      "Fold 3 - After removing bottom 60 features: nDCG@10 = 0.4774\n",
      "\n",
      "Fold 4 - After removing bottom 60 features: nDCG@10 = 0.4889\n",
      "\n",
      "Fold 5 - After removing bottom 60 features: nDCG@10 = 0.4910\n"
     ]
    }
   ],
   "source": [
    "datapath = './MSLR-WEB10K'\n",
    "\n",
    "for fold_num in range(1, 6):\n",
    "    # Load data for the current fold\n",
    "    fold_path = os.path.join(datapath, f'Fold{fold_num}/')\n",
    "    X_train, y_train, qid_train, group_train, X_test, y_test, qid_test, group_test = load_one_fole(fold_path)\n",
    "\n",
    "    # LightGBM model with 'lambdarank' objective\n",
    "    params = {'objective': 'lambdarank', 'metric': 'ndcg', 'ndcg_eval_at': [3, 5, 10], 'verbose': 0}\n",
    "    fold_train_data = lgb.Dataset(X_train, label=y_train, group=group_train, free_raw_data=False)\n",
    "    fold_test_data = lgb.Dataset(X_test, label=y_test, group=group_test, free_raw_data=False)\n",
    "\n",
    "    lgb_model = lgb.train(params, fold_train_data, valid_sets=[fold_test_data])\n",
    "\n",
    "    # Get feature importance\n",
    "    feature_importance = lgb_model.feature_importance(importance_type=\"gain\")\n",
    "\n",
    "    # Get the indices of the bottom 60 features\n",
    "    bottom60_indices = np.argsort(feature_importance)[:60]\n",
    "\n",
    "    # Remove top 20 features\n",
    "    X_train_bottom60 = np.delete(X_train.toarray(), bottom60_indices, axis=1)\n",
    "    X_test_bottom60 = np.delete(X_test.toarray(), bottom60_indices, axis=1)\n",
    "\n",
    "    model_bottom60 = lgb.train(params, lgb.Dataset(X_train_bottom60, label=y_train, group=group_train, free_raw_data=False))\n",
    "\n",
    "    # Evaluate the performance on the test set using nDCG\n",
    "    ndcg_bottom60 = compute_ndcg_all(model_bottom60, X_test_bottom60, y_test, qid_test, k=10)\n",
    "    print(f\"\\nFold {fold_num} - After removing bottom 60 features: nDCG@10 = {ndcg_bottom60:.4f}\")"
   ]
  }
 ],
 "metadata": {
  "kernelspec": {
   "display_name": "base",
   "language": "python",
   "name": "python3"
  },
  "language_info": {
   "codemirror_mode": {
    "name": "ipython",
    "version": 3
   },
   "file_extension": ".py",
   "mimetype": "text/x-python",
   "name": "python",
   "nbconvert_exporter": "python",
   "pygments_lexer": "ipython3",
   "version": "3.10.13"
  }
 },
 "nbformat": 4,
 "nbformat_minor": 2
}
