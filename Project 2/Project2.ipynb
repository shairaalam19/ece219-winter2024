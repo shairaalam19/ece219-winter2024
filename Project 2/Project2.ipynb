{
 "cells": [
  {
   "cell_type": "markdown",
   "metadata": {},
   "source": [
    "# Project 2: Data Representations and Clustering\n",
    "\n",
    "## Group Members\n",
    "- Shaira Alam\n",
    "\n",
    "- Vani Agrawal \n",
    "\n",
    "- Dhakshina Ilango"
   ]
  },
  {
   "cell_type": "markdown",
   "metadata": {},
   "source": [
    "## Package Installation"
   ]
  },
  {
   "cell_type": "code",
   "execution_count": 1,
   "metadata": {},
   "outputs": [
    {
     "name": "stdout",
     "output_type": "stream",
     "text": [
      "Requirement already satisfied: numpy in /Users/vaniagrawal/anaconda3/lib/python3.10/site-packages (1.26.3)\n",
      "Requirement already satisfied: scikit-learn in /Users/vaniagrawal/anaconda3/lib/python3.10/site-packages (1.2.2)\n",
      "Requirement already satisfied: numpy>=1.17.3 in /Users/vaniagrawal/anaconda3/lib/python3.10/site-packages (from scikit-learn) (1.26.3)\n",
      "Requirement already satisfied: scipy>=1.3.2 in /Users/vaniagrawal/anaconda3/lib/python3.10/site-packages (from scikit-learn) (1.12.0)\n",
      "Requirement already satisfied: joblib>=1.1.1 in /Users/vaniagrawal/anaconda3/lib/python3.10/site-packages (from scikit-learn) (1.2.0)\n",
      "Requirement already satisfied: threadpoolctl>=2.0.0 in /Users/vaniagrawal/anaconda3/lib/python3.10/site-packages (from scikit-learn) (2.2.0)\n"
     ]
    }
   ],
   "source": [
    "! pip install numpy\n",
    "! pip install scikit-learn"
   ]
  },
  {
   "cell_type": "markdown",
   "metadata": {},
   "source": [
    "# Part 1 - Clustering on Text Data"
   ]
  },
  {
   "cell_type": "markdown",
   "metadata": {},
   "source": [
    "## Question 1\n",
    "\n",
    "### 1.1 Report the dimensions of the TF-IDF matrix you obtain."
   ]
  },
  {
   "cell_type": "code",
   "execution_count": 2,
   "metadata": {},
   "outputs": [],
   "source": [
    "from sklearn.datasets import fetch_20newsgroups\n",
    "\n",
    "# Categories for Class 1 and 2\n",
    "comp_categories = ['comp.graphics', 'comp.os.ms-windows.misc', 'comp.sys.ibm.pc.hardware', 'comp.sys.mac.hardware']\n",
    "rec_categories = ['rec.autos', 'rec.motorcycles', 'rec.sport.baseball', 'rec.sport.hockey']\n",
    "\n",
    "# Loads the dataset\n",
    "newsgroups_train = fetch_20newsgroups(subset='train', categories=comp_categories+rec_categories, shuffle=True, remove=('headers', 'footers'), random_state=42)\n",
    "newsgroups_test = fetch_20newsgroups(subset='test', categories=comp_categories+rec_categories, shuffle=True, remove=('headers', 'footers'), random_state=42)"
   ]
  },
  {
   "cell_type": "code",
   "execution_count": 3,
   "metadata": {},
   "outputs": [
    {
     "name": "stdout",
     "output_type": "stream",
     "text": [
      "Dimensions of the TD-IDF matrix:  (4732, 17131)\n"
     ]
    }
   ],
   "source": [
    "from sklearn.feature_extraction.text import TfidfVectorizer\n",
    "\n",
    "# TF-IDF Vectorizer\n",
    "tfidf_vect = TfidfVectorizer(min_df=3, stop_words='english')\n",
    "X_train_tfidf = tfidf_vect.fit_transform(newsgroups_train.data)\n",
    "\n",
    "# Dimensions of the TD-IDF matrix\n",
    "tfidf_dims = X_train_tfidf.shape\n",
    "\n",
    "print(\"Dimensions of the TD-IDF matrix: \",tfidf_dims)"
   ]
  },
  {
   "cell_type": "markdown",
   "metadata": {},
   "source": [
    "## Question 2\n",
    "\n",
    "### 2.1 Report the contingency table of your clustering result. You may use the provided plotmat.py to visualize the matrix."
   ]
  },
  {
   "cell_type": "code",
   "execution_count": 11,
   "metadata": {},
   "outputs": [
    {
     "data": {
      "image/png": "[encoded data removed]",
      "text/plain": [
       "<Figure size 360x360 with 2 Axes>"
      ]
     },
     "metadata": {
      "needs_background": "light"
     },
     "output_type": "display_data"
    }
   ],
   "source": [
    "from sklearn.cluster import KMeans\n",
    "from sklearn.metrics.cluster import contingency_matrix\n",
    "import numpy as np\n",
    "import plotmat\n",
    "\n",
    "# K-means clustering with k = 2 using the TF-IDF data\n",
    "k = 2\n",
    "km = KMeans(n_clusters=k, random_state=0, max_iter=1000, n_init=30**2)\n",
    "clusters = km.fit_predict(X_train_tfidf)\n",
    "\n",
    "# Ground truth labels\n",
    "ground_truth = [int(i/4) for i in newsgroups_train.target]\n",
    "\n",
    "mat = contingency_matrix(ground_truth, clusters)\n",
    "\n",
    "# Visualizing the matrix using plotmat.py\n",
    "xlabels = ['Cluster 0', 'Cluster 1']\n",
    "ylabels = ['Class 1', 'Class 2']\n",
    "plotmat.plot_mat(mat, xticklabels=xlabels, yticklabels=ylabels, xlabel='Cluster', ylabel='Ground Truth', size=(5,5), title=\"Contingency Table\")\n"
   ]
  },
  {
   "cell_type": "markdown",
   "metadata": {},
   "source": [
    "### 2.2 Does the contingency matrix have to be square-shaped?"
   ]
  },
  {
   "cell_type": "markdown",
   "metadata": {},
   "source": [
    "No, the contingency matrix does not have to be square shaped since the contingency matrix is a matrix where the rows represent the ground truth labels and the columns represent the predicted cluster labels, so therefore the contingency matrix can be rectangular shaped as well. However, in this scenario, since we only had 2 clusters and 2 ground truth labels, the contingency matrix was square-shaped."
   ]
  },
  {
   "cell_type": "markdown",
   "metadata": {},
   "source": [
    "## Question 3\n",
    "\n",
    "### 3.1 Report the 5 clustering measures explained in the introduction for K-means clustering."
   ]
  },
  {
   "cell_type": "markdown",
   "metadata": {},
   "source": []
  },
  {
   "cell_type": "markdown",
   "metadata": {},
   "source": [
    "## Question 4\n",
    "\n",
    "### 4.1 Report the plot of the percentage of variance that the top r principle components retain v.s. r, for r = 1 to 1000."
   ]
  },
  {
   "cell_type": "code",
   "execution_count": null,
   "metadata": {},
   "outputs": [],
   "source": []
  },
  {
   "cell_type": "markdown",
   "metadata": {},
   "source": [
    "# Part 2 - Deep Learning and Clustering of Image Data"
   ]
  },
  {
   "cell_type": "markdown",
   "metadata": {},
   "source": [
    "## Question 19\n",
    "\n",
    "### 19.1 In a brief paragraph discuss: If the VGG network is trained on a dataset with perhaps totally different classes as targets, why would one expect the features derived from such a network to have discriminative power for a custom dataset?"
   ]
  },
  {
   "cell_type": "markdown",
   "metadata": {},
   "source": []
  }
 ],
 "metadata": {
  "kernelspec": {
   "display_name": "base",
   "language": "python",
   "name": "python3"
  },
  "language_info": {
   "codemirror_mode": {
    "name": "ipython",
    "version": 3
   },
   "file_extension": ".py",
   "mimetype": "text/x-python",
   "name": "python",
   "nbconvert_exporter": "python",
   "pygments_lexer": "ipython3",
   "version": "3.10.13"
  }
 },
 "nbformat": 4,
 "nbformat_minor": 2
}
